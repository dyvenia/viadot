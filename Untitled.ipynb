{
 "cells": [
  {
   "cell_type": "code",
   "execution_count": 1,
   "id": "9e3fc1a2-5ddb-4b0f-9ccd-03add380e0f0",
   "metadata": {},
   "outputs": [],
   "source": [
    "from viadot.sources.genesys import Genesys "
   ]
  },
  {
   "cell_type": "code",
   "execution_count": null,
   "id": "bb2effc6-c24f-426d-b75a-67314f8c287d",
   "metadata": {},
   "outputs": [],
   "source": []
  }
 ],
 "metadata": {
  "kernelspec": {
   "display_name": "Python 3 (ipykernel)",
   "language": "python",
   "name": "python3"
  },
  "language_info": {
   "codemirror_mode": {
    "name": "ipython",
    "version": 3
   },
   "file_extension": ".py",
   "mimetype": "text/x-python",
   "name": "python",
   "nbconvert_exporter": "python",
   "pygments_lexer": "ipython3",
   "version": "3.8.12"
  }
 },
 "nbformat": 4,
 "nbformat_minor": 5
}
