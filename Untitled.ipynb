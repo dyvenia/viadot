{
 "cells": [
  {
   "cell_type": "code",
   "execution_count": 1,
   "id": "71c5c40f-99d8-424b-8035-3819f78745ee",
   "metadata": {},
   "outputs": [],
   "source": [
    "from urllib import response\n",
    "from viadot.config import local_config\n",
    "from viadot.sources.base import Source\n",
    "import pandas as pd\n",
    "import requests\n",
    "import json\n",
    "from typing import Dict, Any\n",
    "from datetime import datetime, date, timedelta\n",
    "\n",
    "\n",
    "class ExchangeRates(Source):\n",
    "    \"\"\"_summary_\n",
    "\n",
    "    Args:\n",
    "        Source (_type_): _description_\n",
    "    \"\"\"\n",
    "\n",
    "    def __init__(self, *args, credentials: Dict[str, Any] = None, **kwargs):\n",
    "        credentials = credentials or local_config.get(\"EXCHANGE_RATES\")\n",
    "        super().__init__(*args, credentials=credentials, **kwargs)\n",
    "\n",
    "    def to_json(self) -> dict:\n",
    "        url = self.credentials[\"url\"]\n",
    "        headers = {\"apikey\": self.credentials[\"apikey\"]}\n",
    "        payload = {\n",
    "            \"start_date\": (datetime.today() - timedelta(days=6)).strftime('%Y-%m-%d'),\n",
    "            \"end_date\": datetime.today().strftime('%Y-%m-%d'),\n",
    "            \"base\": \"USD\",\n",
    "            \"symbols\": \"USD,EUR,GBP,CHF,PLN,DKK,COP,CZK,SEK,NOK,ISK\",\n",
    "        }\n",
    "        response = requests.request(\n",
    "            \"GET\", self.credentials[\"url\"], headers=headers, data={}, params=payload\n",
    "        )\n",
    "\n",
    "        return json.loads(response.text)\n",
    "\n",
    "    def to_df(self) -> pd.DataFrame:\n",
    "        df = pd.DataFrame(self.to_json())\n",
    "        df2 = pd.json_normalize(df[\"rates\"])\n",
    "        df.reset_index(inplace=True)\n",
    "        df = df[[\"index\", \"base\"]].join(df2)\n",
    "\n",
    "        return df"
   ]
  },
  {
   "cell_type": "code",
   "execution_count": 2,
   "id": "9277228c-d7f9-4743-b20b-3c72647d5d8c",
   "metadata": {},
   "outputs": [],
   "source": [
    "er = ExchangeRates()"
   ]
  },
  {
   "cell_type": "code",
   "execution_count": 3,
   "id": "2c4af526-b0bc-441a-9f0d-c82c4793ed14",
   "metadata": {},
   "outputs": [
    {
     "data": {
      "text/plain": [
       "{'success': True,\n",
       " 'timeseries': True,\n",
       " 'start_date': '2022-10-01',\n",
       " 'end_date': '2022-10-07',\n",
       " 'base': 'USD',\n",
       " 'rates': {'2022-10-01': {'USD': 1,\n",
       "   'EUR': 1.01991,\n",
       "   'GBP': 0.896861,\n",
       "   'CHF': 0.9887,\n",
       "   'PLN': 4.951725,\n",
       "   'DKK': 7.58765,\n",
       "   'COP': 4610.01,\n",
       "   'CZK': 25.082904,\n",
       "   'SEK': 11.082965,\n",
       "   'NOK': 10.886065,\n",
       "   'ISK': 144.160386},\n",
       "  '2022-10-02': {'USD': 1,\n",
       "   'EUR': 1.021205,\n",
       "   'GBP': 0.89774,\n",
       "   'CHF': 0.985719,\n",
       "   'PLN': 4.948602,\n",
       "   'DKK': 7.594047,\n",
       "   'COP': 4610.01,\n",
       "   'CZK': 25.093198,\n",
       "   'SEK': 11.107795,\n",
       "   'NOK': 10.876398,\n",
       "   'ISK': 144.302493},\n",
       "  '2022-10-03': {'USD': 1,\n",
       "   'EUR': 1.017115,\n",
       "   'GBP': 0.882351,\n",
       "   'CHF': 0.99261,\n",
       "   'PLN': 4.91015,\n",
       "   'DKK': 7.564098,\n",
       "   'COP': 4530.02,\n",
       "   'CZK': 24.971974,\n",
       "   'SEK': 11.009365,\n",
       "   'NOK': 10.641303,\n",
       "   'ISK': 144.319948},\n",
       "  '2022-10-04': {'USD': 1,\n",
       "   'EUR': 1.001605,\n",
       "   'GBP': 0.873315,\n",
       "   'CHF': 0.97877,\n",
       "   'PLN': 4.821805,\n",
       "   'DKK': 7.449402,\n",
       "   'COP': 4496.51,\n",
       "   'CZK': 24.576698,\n",
       "   'SEK': 10.849301,\n",
       "   'NOK': 10.4424,\n",
       "   'ISK': 142.129744},\n",
       "  '2022-10-05': {'USD': 1,\n",
       "   'EUR': 1.009015,\n",
       "   'GBP': 0.88071,\n",
       "   'CHF': 0.981525,\n",
       "   'PLN': 4.86275,\n",
       "   'DKK': 7.50533,\n",
       "   'COP': 4512.716792,\n",
       "   'CZK': 24.707001,\n",
       "   'SEK': 10.93493,\n",
       "   'NOK': 10.49396,\n",
       "   'ISK': 142.009662},\n",
       "  '2022-10-06': {'USD': 1,\n",
       "   'EUR': 1.021585,\n",
       "   'GBP': 0.895965,\n",
       "   'CHF': 0.990175,\n",
       "   'PLN': 4.99325,\n",
       "   'DKK': 7.59992,\n",
       "   'COP': 4613.51,\n",
       "   'CZK': 25.0286,\n",
       "   'SEK': 11.152565,\n",
       "   'NOK': 10.724985,\n",
       "   'ISK': 142.510104},\n",
       "  '2022-10-07': {'USD': 1,\n",
       "   'EUR': 1.023465,\n",
       "   'GBP': 0.899005,\n",
       "   'CHF': 0.99098,\n",
       "   'PLN': 4.99985,\n",
       "   'DKK': 7.613401,\n",
       "   'COP': 4613.51,\n",
       "   'CZK': 25.089005,\n",
       "   'SEK': 11.185702,\n",
       "   'NOK': 10.752745,\n",
       "   'ISK': 142.770204}}}"
      ]
     },
     "execution_count": 3,
     "metadata": {},
     "output_type": "execute_result"
    }
   ],
   "source": [
    "er.to_json()"
   ]
  },
  {
   "cell_type": "code",
   "execution_count": 4,
   "id": "72bac555-ab35-448c-a6b0-6f42090388ba",
   "metadata": {},
   "outputs": [
    {
     "data": {
      "text/plain": [
       "'2022-10-07'"
      ]
     },
     "execution_count": 4,
     "metadata": {},
     "output_type": "execute_result"
    }
   ],
   "source": [
    "from datetime import datetime\n",
    "datetime.today().strftime('%Y-%m-%d')"
   ]
  },
  {
   "cell_type": "code",
   "execution_count": 5,
   "id": "fda8432d-aa8b-4302-b99a-23fc7c732c48",
   "metadata": {},
   "outputs": [
    {
     "data": {
      "text/html": [
       "<div>\n",
       "<style scoped>\n",
       "    .dataframe tbody tr th:only-of-type {\n",
       "        vertical-align: middle;\n",
       "    }\n",
       "\n",
       "    .dataframe tbody tr th {\n",
       "        vertical-align: top;\n",
       "    }\n",
       "\n",
       "    .dataframe thead th {\n",
       "        text-align: right;\n",
       "    }\n",
       "</style>\n",
       "<table border=\"1\" class=\"dataframe\">\n",
       "  <thead>\n",
       "    <tr style=\"text-align: right;\">\n",
       "      <th></th>\n",
       "      <th>index</th>\n",
       "      <th>base</th>\n",
       "      <th>USD</th>\n",
       "      <th>EUR</th>\n",
       "      <th>GBP</th>\n",
       "      <th>CHF</th>\n",
       "      <th>PLN</th>\n",
       "      <th>DKK</th>\n",
       "      <th>COP</th>\n",
       "      <th>CZK</th>\n",
       "      <th>SEK</th>\n",
       "      <th>NOK</th>\n",
       "      <th>ISK</th>\n",
       "    </tr>\n",
       "  </thead>\n",
       "  <tbody>\n",
       "    <tr>\n",
       "      <th>0</th>\n",
       "      <td>2022-10-01</td>\n",
       "      <td>USD</td>\n",
       "      <td>1</td>\n",
       "      <td>1.019910</td>\n",
       "      <td>0.896861</td>\n",
       "      <td>0.988700</td>\n",
       "      <td>4.951725</td>\n",
       "      <td>7.587650</td>\n",
       "      <td>4610.010000</td>\n",
       "      <td>25.082904</td>\n",
       "      <td>11.082965</td>\n",
       "      <td>10.886065</td>\n",
       "      <td>144.160386</td>\n",
       "    </tr>\n",
       "    <tr>\n",
       "      <th>1</th>\n",
       "      <td>2022-10-02</td>\n",
       "      <td>USD</td>\n",
       "      <td>1</td>\n",
       "      <td>1.021205</td>\n",
       "      <td>0.897740</td>\n",
       "      <td>0.985719</td>\n",
       "      <td>4.948602</td>\n",
       "      <td>7.594047</td>\n",
       "      <td>4610.010000</td>\n",
       "      <td>25.093198</td>\n",
       "      <td>11.107795</td>\n",
       "      <td>10.876398</td>\n",
       "      <td>144.302493</td>\n",
       "    </tr>\n",
       "    <tr>\n",
       "      <th>2</th>\n",
       "      <td>2022-10-03</td>\n",
       "      <td>USD</td>\n",
       "      <td>1</td>\n",
       "      <td>1.017115</td>\n",
       "      <td>0.882351</td>\n",
       "      <td>0.992610</td>\n",
       "      <td>4.910150</td>\n",
       "      <td>7.564098</td>\n",
       "      <td>4530.020000</td>\n",
       "      <td>24.971974</td>\n",
       "      <td>11.009365</td>\n",
       "      <td>10.641303</td>\n",
       "      <td>144.319948</td>\n",
       "    </tr>\n",
       "    <tr>\n",
       "      <th>3</th>\n",
       "      <td>2022-10-04</td>\n",
       "      <td>USD</td>\n",
       "      <td>1</td>\n",
       "      <td>1.001605</td>\n",
       "      <td>0.873315</td>\n",
       "      <td>0.978770</td>\n",
       "      <td>4.821805</td>\n",
       "      <td>7.449402</td>\n",
       "      <td>4496.510000</td>\n",
       "      <td>24.576698</td>\n",
       "      <td>10.849301</td>\n",
       "      <td>10.442400</td>\n",
       "      <td>142.129744</td>\n",
       "    </tr>\n",
       "    <tr>\n",
       "      <th>4</th>\n",
       "      <td>2022-10-05</td>\n",
       "      <td>USD</td>\n",
       "      <td>1</td>\n",
       "      <td>1.009015</td>\n",
       "      <td>0.880710</td>\n",
       "      <td>0.981525</td>\n",
       "      <td>4.862750</td>\n",
       "      <td>7.505330</td>\n",
       "      <td>4512.716792</td>\n",
       "      <td>24.707001</td>\n",
       "      <td>10.934930</td>\n",
       "      <td>10.493960</td>\n",
       "      <td>142.009662</td>\n",
       "    </tr>\n",
       "    <tr>\n",
       "      <th>5</th>\n",
       "      <td>2022-10-06</td>\n",
       "      <td>USD</td>\n",
       "      <td>1</td>\n",
       "      <td>1.021585</td>\n",
       "      <td>0.895965</td>\n",
       "      <td>0.990175</td>\n",
       "      <td>4.993250</td>\n",
       "      <td>7.599920</td>\n",
       "      <td>4613.510000</td>\n",
       "      <td>25.028600</td>\n",
       "      <td>11.152565</td>\n",
       "      <td>10.724985</td>\n",
       "      <td>142.510104</td>\n",
       "    </tr>\n",
       "    <tr>\n",
       "      <th>6</th>\n",
       "      <td>2022-10-07</td>\n",
       "      <td>USD</td>\n",
       "      <td>1</td>\n",
       "      <td>1.023465</td>\n",
       "      <td>0.899005</td>\n",
       "      <td>0.990980</td>\n",
       "      <td>4.999850</td>\n",
       "      <td>7.613401</td>\n",
       "      <td>4613.510000</td>\n",
       "      <td>25.089005</td>\n",
       "      <td>11.185702</td>\n",
       "      <td>10.752745</td>\n",
       "      <td>142.770204</td>\n",
       "    </tr>\n",
       "  </tbody>\n",
       "</table>\n",
       "</div>"
      ],
      "text/plain": [
       "        index base  USD       EUR       GBP       CHF       PLN       DKK  \\\n",
       "0  2022-10-01  USD    1  1.019910  0.896861  0.988700  4.951725  7.587650   \n",
       "1  2022-10-02  USD    1  1.021205  0.897740  0.985719  4.948602  7.594047   \n",
       "2  2022-10-03  USD    1  1.017115  0.882351  0.992610  4.910150  7.564098   \n",
       "3  2022-10-04  USD    1  1.001605  0.873315  0.978770  4.821805  7.449402   \n",
       "4  2022-10-05  USD    1  1.009015  0.880710  0.981525  4.862750  7.505330   \n",
       "5  2022-10-06  USD    1  1.021585  0.895965  0.990175  4.993250  7.599920   \n",
       "6  2022-10-07  USD    1  1.023465  0.899005  0.990980  4.999850  7.613401   \n",
       "\n",
       "           COP        CZK        SEK        NOK         ISK  \n",
       "0  4610.010000  25.082904  11.082965  10.886065  144.160386  \n",
       "1  4610.010000  25.093198  11.107795  10.876398  144.302493  \n",
       "2  4530.020000  24.971974  11.009365  10.641303  144.319948  \n",
       "3  4496.510000  24.576698  10.849301  10.442400  142.129744  \n",
       "4  4512.716792  24.707001  10.934930  10.493960  142.009662  \n",
       "5  4613.510000  25.028600  11.152565  10.724985  142.510104  \n",
       "6  4613.510000  25.089005  11.185702  10.752745  142.770204  "
      ]
     },
     "execution_count": 5,
     "metadata": {},
     "output_type": "execute_result"
    }
   ],
   "source": [
    "er.to_df()"
   ]
  },
  {
   "cell_type": "code",
   "execution_count": 25,
   "id": "691c1e4c-518d-4a63-b560-3359fb59f56a",
   "metadata": {},
   "outputs": [
    {
     "ename": "AttributeError",
     "evalue": "type object 'datetime.datetime' has no attribute 'timedelta'",
     "output_type": "error",
     "traceback": [
      "\u001b[0;31m---------------------------------------------------------------------------\u001b[0m",
      "\u001b[0;31mAttributeError\u001b[0m                            Traceback (most recent call last)",
      "Cell \u001b[0;32mIn [25], line 3\u001b[0m\n\u001b[1;32m      1\u001b[0m today \u001b[38;5;241m=\u001b[39m datetime\u001b[38;5;241m.\u001b[39mtoday()\n\u001b[1;32m      2\u001b[0m first \u001b[38;5;241m=\u001b[39m today\u001b[38;5;241m.\u001b[39mreplace(day\u001b[38;5;241m=\u001b[39m\u001b[38;5;241m1\u001b[39m)\n\u001b[0;32m----> 3\u001b[0m last_month \u001b[38;5;241m=\u001b[39m first \u001b[38;5;241m-\u001b[39m datetime\u001b[38;5;241m.\u001b[39mtimedelta(days\u001b[38;5;241m=\u001b[39m\u001b[38;5;241m1\u001b[39m)\n\u001b[1;32m      4\u001b[0m \u001b[38;5;28mprint\u001b[39m(last_month\u001b[38;5;241m.\u001b[39mstrftime(\u001b[38;5;124m\"\u001b[39m\u001b[38;5;124m%\u001b[39m\u001b[38;5;124mY\u001b[39m\u001b[38;5;124m%\u001b[39m\u001b[38;5;124mm\u001b[39m\u001b[38;5;124m\"\u001b[39m))\n",
      "\u001b[0;31mAttributeError\u001b[0m: type object 'datetime.datetime' has no attribute 'timedelta'"
     ]
    }
   ],
   "source": [
    "today = datetime.today()\n",
    "first = today.replace(day=1)\n",
    "last_month = first - datetime.timedelta(days=1)\n",
    "print(last_month.strftime(\"%Y%m\"))"
   ]
  },
  {
   "cell_type": "code",
   "execution_count": 35,
   "id": "e2692066-beb0-4bd2-aea9-55cdaf2590d3",
   "metadata": {},
   "outputs": [],
   "source": [
    "previous_month = (date.today().replace(day=1)) - timedelta(days=1)"
   ]
  },
  {
   "cell_type": "code",
   "execution_count": 47,
   "id": "2e948e92-4b01-46b8-b891-c3db5d5fdb26",
   "metadata": {},
   "outputs": [
    {
     "data": {
      "text/plain": [
       "'2022-10-01'"
      ]
     },
     "execution_count": 47,
     "metadata": {},
     "output_type": "execute_result"
    }
   ],
   "source": [
    "(datetime.today() - timedelta(days=6)).strftime('%Y-%m-%d')"
   ]
  },
  {
   "cell_type": "code",
   "execution_count": 30,
   "id": "7fc9c009-a268-4d3d-b6ea-268862a5d055",
   "metadata": {},
   "outputs": [
    {
     "data": {
      "text/plain": [
       "'2022-09-30'"
      ]
     },
     "execution_count": 30,
     "metadata": {},
     "output_type": "execute_result"
    }
   ],
   "source": []
  },
  {
   "cell_type": "code",
   "execution_count": 36,
   "id": "18789dfc-1420-4645-b733-8bfa4b7ce767",
   "metadata": {},
   "outputs": [
    {
     "data": {
      "text/plain": [
       "'2022-09-30'"
      ]
     },
     "execution_count": 36,
     "metadata": {},
     "output_type": "execute_result"
    }
   ],
   "source": [
    "previous_month.strftime('%Y-%m-%d')"
   ]
  },
  {
   "cell_type": "code",
   "execution_count": null,
   "id": "436375d9-41f1-4123-8439-fd6b99741dee",
   "metadata": {},
   "outputs": [],
   "source": []
  }
 ],
 "metadata": {
  "kernelspec": {
   "display_name": "Python 3 (ipykernel)",
   "language": "python",
   "name": "python3"
  },
  "language_info": {
   "codemirror_mode": {
    "name": "ipython",
    "version": 3
   },
   "file_extension": ".py",
   "mimetype": "text/x-python",
   "name": "python",
   "nbconvert_exporter": "python",
   "pygments_lexer": "ipython3",
   "version": "3.8.12"
  }
 },
 "nbformat": 4,
 "nbformat_minor": 5
}
