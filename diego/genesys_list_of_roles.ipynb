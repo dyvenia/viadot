{
 "cells": [
  {
   "cell_type": "code",
   "execution_count": 1,
   "id": "52036adb",
   "metadata": {},
   "outputs": [],
   "source": [
    "from pprint import pprint\n",
    "import base64, requests, sys, os, json\n",
    "import pandas as pd\n",
    "import numpy as np\n",
    "import warnings\n",
    "\n",
    "warnings.filterwarnings(\"ignore\", message=\"Workbook contains no default style, apply openpyxl's default\")"
   ]
  },
  {
   "cell_type": "code",
   "execution_count": 2,
   "id": "f74833aa",
   "metadata": {},
   "outputs": [],
   "source": [
    "# DATA LAKE\n",
    "CLIENT_ID = '66a08b11-c3c4-4a45-9912-2b42ffc9bc25'\n",
    "CLIENT_SECRET = 'msJj0hjryI4uW3sZdMfA-6P6SeP4jSh9VylYN2297rM'"
   ]
  },
  {
   "cell_type": "markdown",
   "id": "a348bc0a",
   "metadata": {},
   "source": [
    "#### michal winiarski\n",
    "CLIENT_ID = '1d9f9c0e-d7ca-413d-bcac-103b3cd63f74'\n",
    "\n",
    "CLIENT_SECRET = 'y7LWZsfBNjB0VlTvEpkC1t7DGSV3HIh2Ga6p_zLC4X0'"
   ]
  },
  {
   "cell_type": "markdown",
   "id": "a09d5c5a",
   "metadata": {},
   "source": [
    "# get a report"
   ]
  },
  {
   "cell_type": "code",
   "execution_count": 3,
   "id": "4a06c305",
   "metadata": {},
   "outputs": [
    {
     "name": "stdout",
     "output_type": "stream",
     "text": [
      "<class 'dict'>\n",
      "<class 'str'>\n"
     ]
    }
   ],
   "source": [
    "data_to_post = {\n",
    "   \"name\": \"Export Test POST\",\n",
    "   \"quartzCronExpression\": \"0 14 * * * ?\",\n",
    "   \"nextFireTime\": \"2022-07-07T16:14:00.000Z\",\n",
    "   \"dateCreated\": \"2022-07-07T08:04:01.363Z\",\n",
    "   \"dateModified\": \"2022-07-07T14:27:59.446Z\",\n",
    "   \"description\": \"Export Test 2\",\n",
    "   \"timeZone\": \"Europe/Warsaw\",\n",
    "   \"timePeriod\": \"USE_INTERVAL\",\n",
    "   \"interval\": \"2022-07-05T22:00:00.000Z/2022-07-06T22:00:00.000Z\",\n",
    "   \"reportFormat\": \"XLS\",\n",
    "   \"locale\": \"en_US\",\n",
    "   \"enabled\": True,\n",
    "   \"reportId\": \"03bc1eef-082e-46c1-b9a8-fe45fbc3b205\",\n",
    "   \"parameters\": {\"queueIds\": [\n",
    "          \"780807e6-83b9-44be-aff0-a41c37fab004\",\n",
    "          \"383ee5e5-5d8f-406c-ad53-835b69fe82c5\",\n",
    "          \"d4fa7080-63d3-47ea-bcde-a4f89ae2870c\",\n",
    "          \"427b6226-cafd-4425-ba20-4e7dd8561088\",\n",
    "          \"e0efef7f-b61a-4caf-b71b-002595c6899e\",\n",
    "          \"b44af752-2ce4-4810-8b83-6d131f493e23\",\n",
    "          \"247586a2-986f-4078-b28e-e0a5694ec726\"\n",
    "        ],\n",
    "        \"mediaTypes\": []},\n",
    "   \"lastRun\": {\n",
    "      \"name\": \"\",\n",
    "      \"reportId\": \"\",\n",
    "      \"runTime\": \"\",\n",
    "      \"runStatus\": \"\",\n",
    "      \"errorMessage\": \"\",\n",
    "      \"runDurationMsec\": 0,\n",
    "      \"reportUrl\": \"\",\n",
    "      \"reportFormat\": \"\",\n",
    "      \"scheduleUri\": \"\"\n",
    "   }\n",
    "}\n",
    "print(type(data_to_post))\n",
    "\n",
    "print(type(json.dumps(data_to_post)))"
   ]
  },
  {
   "cell_type": "markdown",
   "id": "23801419",
   "metadata": {},
   "source": [
    "### create a token"
   ]
  },
  {
   "cell_type": "code",
   "execution_count": 4,
   "id": "d57714bf",
   "metadata": {},
   "outputs": [
    {
     "name": "stdout",
     "output_type": "stream",
     "text": [
      "URL: https://login.mypurecloud.de/oauth/token\n"
     ]
    }
   ],
   "source": [
    "ENVIRONMENT = 'mypurecloud.de'\n",
    "url = f\"https://login.{ENVIRONMENT}/oauth/token\"\n",
    "print(f\"URL: {url}\")\n",
    "\n",
    "# Base64 encode the client ID and client secret\n",
    "authorization = base64.b64encode(bytes(CLIENT_ID + \":\" + CLIENT_SECRET, \"ISO-8859-1\")).decode(\"ascii\")\n",
    "# print(f\"AUTHORIZATION: {authorization}\")"
   ]
  },
  {
   "cell_type": "code",
   "execution_count": 5,
   "id": "b6ccf58f",
   "metadata": {},
   "outputs": [
    {
     "name": "stdout",
     "output_type": "stream",
     "text": [
      "Got token\n"
     ]
    }
   ],
   "source": [
    "# Prepare for POST /oauth/token request\n",
    "request_headers = {\n",
    "    \"Authorization\": f\"Basic {authorization}\",\n",
    "    \"Content-Type\": \"application/x-www-form-urlencoded\"\n",
    "}\n",
    "request_body = {\n",
    "    \"grant_type\": \"client_credentials\"\n",
    "}\n",
    "\n",
    "# Get token\n",
    "response = requests.post(url, data=request_body, headers=request_headers)\n",
    "\n",
    "# Check response\n",
    "if response.status_code == 200:\n",
    "    print(\"Got token\")\n",
    "else:\n",
    "    print(f\"Failure: { str(response.status_code) } - { response.reason }\")\n",
    "    sys.exit(response.status_code)\n",
    "\n",
    "# Get JSON response body\n",
    "response_json = response.json()"
   ]
  },
  {
   "cell_type": "markdown",
   "id": "bfc1e28d",
   "metadata": {},
   "source": [
    "### send credentials and the report schedule"
   ]
  },
  {
   "cell_type": "code",
   "execution_count": 6,
   "id": "6b601975",
   "metadata": {
    "tags": []
   },
   "outputs": [],
   "source": [
    "# Once we post to get the token, post all data we want\n",
    "requestHeaders = {\n",
    "    \"Authorization\": f\"{ response_json['token_type'] } { response_json['access_token']}\",\n",
    "    'Content-Type': 'application/json'\n",
    "}\n",
    "\n",
    "url = f\"https://api.{ENVIRONMENT}/api/v2/analytics/reporting/schedules\"\n",
    "\n",
    "response = requests.post(url, headers=requestHeaders, data=json.dumps(data_to_post))"
   ]
  },
  {
   "cell_type": "markdown",
   "id": "fe8b563a",
   "metadata": {},
   "source": [
    "### get the response"
   ]
  },
  {
   "cell_type": "code",
   "execution_count": 7,
   "id": "0ebf74a2",
   "metadata": {
    "tags": []
   },
   "outputs": [
    {
     "name": "stdout",
     "output_type": "stream",
     "text": [
      "https://api.mypurecloud.de/api/v2/analytics/reporting/schedules\n",
      "\n",
      "Got reporting/schedules\n"
     ]
    }
   ],
   "source": [
    "# Prepare for GET /api/v2/authorization/roles request\n",
    "requestHeaders = {\n",
    "    \"Authorization\": f\"{ response_json['token_type'] } { response_json['access_token']}\",\n",
    "    \"Content-Type\": \"application/json\"\n",
    "}\n",
    "\n",
    "url = f\"https://api.{ENVIRONMENT}/api/v2/analytics/reporting/schedules\"\n",
    "print(url, end=\"\\n\\n\")\n",
    "\n",
    "response = requests.get(url, headers=requestHeaders)\n",
    "\n",
    "# Check response\n",
    "if response.status_code == 200:\n",
    "    print(\"Got reporting/schedules\")\n",
    "else:\n",
    "    print(f\"Failure: { str(response.status_code) } - { response.reason }\")\n",
    "\n",
    "\n",
    "r = response.json()"
   ]
  },
  {
   "cell_type": "markdown",
   "id": "a170434e",
   "metadata": {},
   "source": [
    "### print the result in a friendly way"
   ]
  },
  {
   "cell_type": "code",
   "execution_count": 8,
   "id": "19f22661",
   "metadata": {
    "scrolled": true
   },
   "outputs": [
    {
     "data": {
      "text/plain": [
       "{'entities': [{'id': 'c8c88e75-8f46-4b23-bae5-7ff8308ac00d',\n",
       "   'quartzCronExpression': '0 14 * * * ?',\n",
       "   'nextFireTime': '2022-07-14T10:14:00.000Z',\n",
       "   'dateCreated': '2022-07-14T08:16:09.811Z',\n",
       "   'dateModified': '2022-07-14T08:16:09.811Z',\n",
       "   'description': 'Export Test 2',\n",
       "   'timeZone': 'Europe/Warsaw',\n",
       "   'timePeriod': 'USE_INTERVAL',\n",
       "   'interval': '2022-07-05T22:00:00.000Z/2022-07-06T22:00:00.000Z',\n",
       "   'reportFormat': 'XLS',\n",
       "   'locale': 'en_US',\n",
       "   'enabled': True,\n",
       "   'reportId': '03bc1eef-082e-46c1-b9a8-fe45fbc3b205',\n",
       "   'parameters': {'queueIds': ['780807e6-83b9-44be-aff0-a41c37fab004',\n",
       "     '383ee5e5-5d8f-406c-ad53-835b69fe82c5',\n",
       "     'd4fa7080-63d3-47ea-bcde-a4f89ae2870c',\n",
       "     '427b6226-cafd-4425-ba20-4e7dd8561088',\n",
       "     'e0efef7f-b61a-4caf-b71b-002595c6899e'],\n",
       "    'mediaTypes': []},\n",
       "   'selfUri': '/api/v2/analytics/reporting/schedules/c8c88e75-8f46-4b23-bae5-7ff8308ac00d'},\n",
       "  {'id': '0cdd3c66-27ad-4d53-b64d-169611d6cc86',\n",
       "   'quartzCronExpression': '0 14 * * * ?',\n",
       "   'nextFireTime': '2022-07-14T09:14:00.000Z',\n",
       "   'dateCreated': '2022-07-13T07:34:54.664Z',\n",
       "   'dateModified': '2022-07-13T07:34:54.664Z',\n",
       "   'description': 'Export Test 2',\n",
       "   'timeZone': 'Europe/Warsaw',\n",
       "   'timePeriod': 'USE_INTERVAL',\n",
       "   'interval': '2022-07-05T22:00:00.000Z/2022-07-06T22:00:00.000Z',\n",
       "   'reportFormat': 'XLS',\n",
       "   'locale': 'en_US',\n",
       "   'enabled': True,\n",
       "   'reportId': '03bc1eef-082e-46c1-b9a8-fe45fbc3b205',\n",
       "   'parameters': {'queueIds': ['780807e6-83b9-44be-aff0-a41c37fab004',\n",
       "     '383ee5e5-5d8f-406c-ad53-835b69fe82c5',\n",
       "     'd4fa7080-63d3-47ea-bcde-a4f89ae2870c',\n",
       "     '427b6226-cafd-4425-ba20-4e7dd8561088',\n",
       "     'e0efef7f-b61a-4caf-b71b-002595c6899e'],\n",
       "    'mediaTypes': []},\n",
       "   'lastRun': {'id': 'ab33ad8b-9681-4f09-a8fe-8c02e48e38c2',\n",
       "    'reportId': '03bc1eef-082e-46c1-b9a8-fe45fbc3b205',\n",
       "    'runTime': '2022-07-14T07:24:21.555Z',\n",
       "    'runStatus': 'COMPLETED',\n",
       "    'runDurationMsec': 1683,\n",
       "    'reportUrl': 'https://apps.mypurecloud.de/platform/api/v2/downloads/514ed69166673082',\n",
       "    'reportFormat': 'XLS',\n",
       "    'scheduleUri': '/api/v2/analytics/reporting/schedules/0cdd3c66-27ad-4d53-b64d-169611d6cc86',\n",
       "    'selfUri': '/api/v2/analytics/reporting/schedules/0cdd3c66-27ad-4d53-b64d-169611d6cc86/history/ab33ad8b-9681-4f09-a8fe-8c02e48e38c2'},\n",
       "   'selfUri': '/api/v2/analytics/reporting/schedules/0cdd3c66-27ad-4d53-b64d-169611d6cc86'},\n",
       "  {'id': '71896c7a-75c1-48f5-b84a-69c579bedc45',\n",
       "   'quartzCronExpression': '0 14 * * * ?',\n",
       "   'nextFireTime': '2022-07-14T09:14:00.000Z',\n",
       "   'dateCreated': '2022-07-12T11:23:38.538Z',\n",
       "   'dateModified': '2022-07-12T11:23:38.538Z',\n",
       "   'description': 'Export Test 2',\n",
       "   'timeZone': 'Europe/Warsaw',\n",
       "   'timePeriod': 'USE_INTERVAL',\n",
       "   'interval': '2022-07-05T22:00:00.000Z/2022-07-06T22:00:00.000Z',\n",
       "   'reportFormat': 'XLS',\n",
       "   'locale': 'en_US',\n",
       "   'enabled': True,\n",
       "   'reportId': '03bc1eef-082e-46c1-b9a8-fe45fbc3b205',\n",
       "   'parameters': {'queueIds': ['780807e6-83b9-44be-aff0-a41c37fab004',\n",
       "     '383ee5e5-5d8f-406c-ad53-835b69fe82c5',\n",
       "     'd4fa7080-63d3-47ea-bcde-a4f89ae2870c',\n",
       "     '427b6226-cafd-4425-ba20-4e7dd8561088',\n",
       "     'e0efef7f-b61a-4caf-b71b-002595c6899e'],\n",
       "    'mediaTypes': []},\n",
       "   'lastRun': {'id': 'bffce96e-d684-45a4-92fe-16d93d2964ce',\n",
       "    'reportId': '03bc1eef-082e-46c1-b9a8-fe45fbc3b205',\n",
       "    'runTime': '2022-07-14T07:26:23.662Z',\n",
       "    'runStatus': 'COMPLETED',\n",
       "    'runDurationMsec': 967,\n",
       "    'reportUrl': 'https://apps.mypurecloud.de/platform/api/v2/downloads/6dd47870524ac40f',\n",
       "    'reportFormat': 'XLS',\n",
       "    'scheduleUri': '/api/v2/analytics/reporting/schedules/71896c7a-75c1-48f5-b84a-69c579bedc45',\n",
       "    'selfUri': '/api/v2/analytics/reporting/schedules/71896c7a-75c1-48f5-b84a-69c579bedc45/history/bffce96e-d684-45a4-92fe-16d93d2964ce'},\n",
       "   'selfUri': '/api/v2/analytics/reporting/schedules/71896c7a-75c1-48f5-b84a-69c579bedc45'},\n",
       "  {'id': '6e17ac92-d6e9-4437-81af-a4d2acbf48bd',\n",
       "   'quartzCronExpression': '0 15 * * * ?',\n",
       "   'nextFireTime': '2022-07-14T09:15:00.000Z',\n",
       "   'dateCreated': '2022-07-12T11:12:47.865Z',\n",
       "   'dateModified': '2022-07-12T11:12:47.865Z',\n",
       "   'description': 'Export Test POST',\n",
       "   'timeZone': 'Europe/Warsaw',\n",
       "   'timePeriod': 'YESTERDAY',\n",
       "   'interval': '2022-07-10T22:00:00.000Z/2022-07-11T22:00:00.000Z',\n",
       "   'reportFormat': 'XLS',\n",
       "   'locale': 'en_US',\n",
       "   'enabled': True,\n",
       "   'reportId': '03bc1eef-082e-46c1-b9a8-fe45fbc3b205',\n",
       "   'parameters': {'queueIds': ['780807e6-83b9-44be-aff0-a41c37fab004',\n",
       "     '383ee5e5-5d8f-406c-ad53-835b69fe82c5',\n",
       "     'd4fa7080-63d3-47ea-bcde-a4f89ae2870c',\n",
       "     '427b6226-cafd-4425-ba20-4e7dd8561088',\n",
       "     'e0efef7f-b61a-4caf-b71b-002595c6899e'],\n",
       "    'mediaTypes': []},\n",
       "   'lastRun': {'id': '9fd784dc-4180-45f8-beee-d0881fb163e6',\n",
       "    'reportId': '03bc1eef-082e-46c1-b9a8-fe45fbc3b205',\n",
       "    'runTime': '2022-07-14T07:28:43.433Z',\n",
       "    'runStatus': 'COMPLETED',\n",
       "    'runDurationMsec': 1583,\n",
       "    'reportUrl': 'https://apps.mypurecloud.de/platform/api/v2/downloads/700c7764ccf0681d',\n",
       "    'reportFormat': 'XLS',\n",
       "    'scheduleUri': '/api/v2/analytics/reporting/schedules/6e17ac92-d6e9-4437-81af-a4d2acbf48bd',\n",
       "    'selfUri': '/api/v2/analytics/reporting/schedules/6e17ac92-d6e9-4437-81af-a4d2acbf48bd/history/9fd784dc-4180-45f8-beee-d0881fb163e6'},\n",
       "   'selfUri': '/api/v2/analytics/reporting/schedules/6e17ac92-d6e9-4437-81af-a4d2acbf48bd'}],\n",
       " 'pageSize': 25,\n",
       " 'pageNumber': 1,\n",
       " 'total': 4,\n",
       " 'firstUri': '/api/v2/analytics/reporting/schedules?pageSize=25&pageNumber=1',\n",
       " 'lastUri': '/api/v2/analytics/reporting/schedules?pageSize=25&pageNumber=1',\n",
       " 'selfUri': '/api/v2/analytics/reporting/schedules?pageSize=25&pageNumber=1',\n",
       " 'pageCount': 1}"
      ]
     },
     "execution_count": 8,
     "metadata": {},
     "output_type": "execute_result"
    }
   ],
   "source": [
    "r"
   ]
  },
  {
   "cell_type": "code",
   "execution_count": 9,
   "id": "1939984c",
   "metadata": {
    "scrolled": true,
    "tags": []
   },
   "outputs": [
    {
     "name": "stdout",
     "output_type": "stream",
     "text": [
      "\n",
      "entities: [\n",
      " | \n",
      " | | id: c8c88e75-8f46-4b23-bae5-7ff8308ac00d\n",
      " | | quartzCronExpression: 0 14 * * * ?\n",
      " | | nextFireTime: 2022-07-14T10:14:00.000Z\n",
      " | | dateCreated: 2022-07-14T08:16:09.811Z\n",
      " | | dateModified: 2022-07-14T08:16:09.811Z\n",
      " | | description: Export Test 2\n",
      " | | timeZone: Europe/Warsaw\n",
      " | | timePeriod: USE_INTERVAL\n",
      " | | interval: 2022-07-05T22:00:00.000Z/2022-07-06T22:00:00.000Z\n",
      " | | reportFormat: XLS\n",
      " | | locale: en_US\n",
      " | | enabled: true\n",
      " | | reportId: 03bc1eef-082e-46c1-b9a8-fe45fbc3b205\n",
      " | | parameters: \n",
      " | | | queueIds: [\n",
      " | | | | 780807e6-83b9-44be-aff0-a41c37fab004\n",
      " | | | | 383ee5e5-5d8f-406c-ad53-835b69fe82c5\n",
      " | | | | d4fa7080-63d3-47ea-bcde-a4f89ae2870c\n",
      " | | | | 427b6226-cafd-4425-ba20-4e7dd8561088\n",
      " | | | | e0efef7f-b61a-4caf-b71b-002595c6899e\n",
      " | | | ]\n",
      " | | | mediaTypes: []\n",
      " | | \n",
      " | | selfUri: /api/v2/analytics/reporting/schedules/c8c88e75-8f46-4b23-bae5-7ff8308ac00d\n",
      " | \n",
      " | \n",
      " | | id: 0cdd3c66-27ad-4d53-b64d-169611d6cc86\n",
      " | | quartzCronExpression: 0 14 * * * ?\n",
      " | | nextFireTime: 2022-07-14T09:14:00.000Z\n",
      " | | dateCreated: 2022-07-13T07:34:54.664Z\n",
      " | | dateModified: 2022-07-13T07:34:54.664Z\n",
      " | | description: Export Test 2\n",
      " | | timeZone: Europe/Warsaw\n",
      " | | timePeriod: USE_INTERVAL\n",
      " | | interval: 2022-07-05T22:00:00.000Z/2022-07-06T22:00:00.000Z\n",
      " | | reportFormat: XLS\n",
      " | | locale: en_US\n",
      " | | enabled: true\n",
      " | | reportId: 03bc1eef-082e-46c1-b9a8-fe45fbc3b205\n",
      " | | parameters: \n",
      " | | | queueIds: [\n",
      " | | | | 780807e6-83b9-44be-aff0-a41c37fab004\n",
      " | | | | 383ee5e5-5d8f-406c-ad53-835b69fe82c5\n",
      " | | | | d4fa7080-63d3-47ea-bcde-a4f89ae2870c\n",
      " | | | | 427b6226-cafd-4425-ba20-4e7dd8561088\n",
      " | | | | e0efef7f-b61a-4caf-b71b-002595c6899e\n",
      " | | | ]\n",
      " | | | mediaTypes: []\n",
      " | | \n",
      " | | lastRun: \n",
      " | | | id: ab33ad8b-9681-4f09-a8fe-8c02e48e38c2\n",
      " | | | reportId: 03bc1eef-082e-46c1-b9a8-fe45fbc3b205\n",
      " | | | runTime: 2022-07-14T07:24:21.555Z\n",
      " | | | runStatus: COMPLETED\n",
      " | | | runDurationMsec: 1683\n",
      " | | | reportUrl: https://apps.mypurecloud.de/platform/api/v2/downloads/514ed69166673082\n",
      " | | | reportFormat: XLS\n",
      " | | | scheduleUri: /api/v2/analytics/reporting/schedules/0cdd3c66-27ad-4d53-b64d-169611d6cc86\n",
      " | | | selfUri: /api/v2/analytics/reporting/schedules/0cdd3c66-27ad-4d53-b64d-169611d6cc86/history/ab33ad8b-9681-4f09-a8fe-8c02e48e38c2\n",
      " | | \n",
      " | | selfUri: /api/v2/analytics/reporting/schedules/0cdd3c66-27ad-4d53-b64d-169611d6cc86\n",
      " | \n",
      " | \n",
      " | | id: 71896c7a-75c1-48f5-b84a-69c579bedc45\n",
      " | | quartzCronExpression: 0 14 * * * ?\n",
      " | | nextFireTime: 2022-07-14T09:14:00.000Z\n",
      " | | dateCreated: 2022-07-12T11:23:38.538Z\n",
      " | | dateModified: 2022-07-12T11:23:38.538Z\n",
      " | | description: Export Test 2\n",
      " | | timeZone: Europe/Warsaw\n",
      " | | timePeriod: USE_INTERVAL\n",
      " | | interval: 2022-07-05T22:00:00.000Z/2022-07-06T22:00:00.000Z\n",
      " | | reportFormat: XLS\n",
      " | | locale: en_US\n",
      " | | enabled: true\n",
      " | | reportId: 03bc1eef-082e-46c1-b9a8-fe45fbc3b205\n",
      " | | parameters: \n",
      " | | | queueIds: [\n",
      " | | | | 780807e6-83b9-44be-aff0-a41c37fab004\n",
      " | | | | 383ee5e5-5d8f-406c-ad53-835b69fe82c5\n",
      " | | | | d4fa7080-63d3-47ea-bcde-a4f89ae2870c\n",
      " | | | | 427b6226-cafd-4425-ba20-4e7dd8561088\n",
      " | | | | e0efef7f-b61a-4caf-b71b-002595c6899e\n",
      " | | | ]\n",
      " | | | mediaTypes: []\n",
      " | | \n",
      " | | lastRun: \n",
      " | | | id: bffce96e-d684-45a4-92fe-16d93d2964ce\n",
      " | | | reportId: 03bc1eef-082e-46c1-b9a8-fe45fbc3b205\n",
      " | | | runTime: 2022-07-14T07:26:23.662Z\n",
      " | | | runStatus: COMPLETED\n",
      " | | | runDurationMsec: 967\n",
      " | | | reportUrl: https://apps.mypurecloud.de/platform/api/v2/downloads/6dd47870524ac40f\n",
      " | | | reportFormat: XLS\n",
      " | | | scheduleUri: /api/v2/analytics/reporting/schedules/71896c7a-75c1-48f5-b84a-69c579bedc45\n",
      " | | | selfUri: /api/v2/analytics/reporting/schedules/71896c7a-75c1-48f5-b84a-69c579bedc45/history/bffce96e-d684-45a4-92fe-16d93d2964ce\n",
      " | | \n",
      " | | selfUri: /api/v2/analytics/reporting/schedules/71896c7a-75c1-48f5-b84a-69c579bedc45\n",
      " | \n",
      " | \n",
      " | | id: 6e17ac92-d6e9-4437-81af-a4d2acbf48bd\n",
      " | | quartzCronExpression: 0 15 * * * ?\n",
      " | | nextFireTime: 2022-07-14T09:15:00.000Z\n",
      " | | dateCreated: 2022-07-12T11:12:47.865Z\n",
      " | | dateModified: 2022-07-12T11:12:47.865Z\n",
      " | | description: Export Test POST\n",
      " | | timeZone: Europe/Warsaw\n",
      " | | timePeriod: YESTERDAY\n",
      " | | interval: 2022-07-10T22:00:00.000Z/2022-07-11T22:00:00.000Z\n",
      " | | reportFormat: XLS\n",
      " | | locale: en_US\n",
      " | | enabled: true\n",
      " | | reportId: 03bc1eef-082e-46c1-b9a8-fe45fbc3b205\n",
      " | | parameters: \n",
      " | | | queueIds: [\n",
      " | | | | 780807e6-83b9-44be-aff0-a41c37fab004\n",
      " | | | | 383ee5e5-5d8f-406c-ad53-835b69fe82c5\n",
      " | | | | d4fa7080-63d3-47ea-bcde-a4f89ae2870c\n",
      " | | | | 427b6226-cafd-4425-ba20-4e7dd8561088\n",
      " | | | | e0efef7f-b61a-4caf-b71b-002595c6899e\n",
      " | | | ]\n",
      " | | | mediaTypes: []\n",
      " | | \n",
      " | | lastRun: \n",
      " | | | id: 9fd784dc-4180-45f8-beee-d0881fb163e6\n",
      " | | | reportId: 03bc1eef-082e-46c1-b9a8-fe45fbc3b205\n",
      " | | | runTime: 2022-07-14T07:28:43.433Z\n",
      " | | | runStatus: COMPLETED\n",
      " | | | runDurationMsec: 1583\n",
      " | | | reportUrl: https://apps.mypurecloud.de/platform/api/v2/downloads/700c7764ccf0681d\n",
      " | | | reportFormat: XLS\n",
      " | | | scheduleUri: /api/v2/analytics/reporting/schedules/6e17ac92-d6e9-4437-81af-a4d2acbf48bd\n",
      " | | | selfUri: /api/v2/analytics/reporting/schedules/6e17ac92-d6e9-4437-81af-a4d2acbf48bd/history/9fd784dc-4180-45f8-beee-d0881fb163e6\n",
      " | | \n",
      " | | selfUri: /api/v2/analytics/reporting/schedules/6e17ac92-d6e9-4437-81af-a4d2acbf48bd\n",
      " | \n",
      "]\n",
      "pageSize: 25\n",
      "pageNumber: 1\n",
      "total: 4\n",
      "firstUri: /api/v2/analytics/reporting/schedules?pageSize=25&pageNumber=1\n",
      "lastUri: /api/v2/analytics/reporting/schedules?pageSize=25&pageNumber=1\n",
      "selfUri: /api/v2/analytics/reporting/schedules?pageSize=25&pageNumber=1\n",
      "pageCount: 1\n",
      "\n"
     ]
    }
   ],
   "source": [
    "tree_str = json.dumps(r, indent=4)\n",
    "tree_str = tree_str.replace(\"\\n    \", \"\\n\")\n",
    "tree_str = tree_str.replace('\"', \"\")\n",
    "tree_str = tree_str.replace(',', \"\")\n",
    "tree_str = tree_str.replace(\"{\", \"\")\n",
    "tree_str = tree_str.replace(\"}\", \"\")\n",
    "tree_str = tree_str.replace(\"    \", \" | \")\n",
    "tree_str = tree_str.replace(\"  \", \" \")\n",
    "\n",
    "print(tree_str)"
   ]
  },
  {
   "cell_type": "code",
   "execution_count": 20,
   "id": "0e2f33de-769f-4d66-8e6a-11ae2c3bc6aa",
   "metadata": {},
   "outputs": [
    {
     "name": "stdout",
     "output_type": "stream",
     "text": [
      "https://apps.mypurecloud.de/platform/api/v2/downloads/514ed69166673082\n"
     ]
    }
   ],
   "source": [
    "r2 = r['entities'][1].get('lastRun', None).get(\"reportUrl\", None)\n",
    "print(r2)"
   ]
  },
  {
   "cell_type": "markdown",
   "id": "c9973997",
   "metadata": {},
   "source": [
    "# Remove entries of a report"
   ]
  },
  {
   "cell_type": "code",
   "execution_count": 60,
   "id": "037c3ae4",
   "metadata": {},
   "outputs": [
    {
     "name": "stdout",
     "output_type": "stream",
     "text": [
      "['76beee10-531a-40ed-b483-c5b376e16431']\n"
     ]
    }
   ],
   "source": [
    "all_ids = [val['id'] for i, val in enumerate(r['entities'])]\n",
    "print(all_ids)"
   ]
  },
  {
   "cell_type": "code",
   "execution_count": 61,
   "id": "0511bb1d",
   "metadata": {},
   "outputs": [],
   "source": [
    "for ID in all_ids:\n",
    "    url = f\"https://api.{ENVIRONMENT}/api/v2/analytics/reporting/schedules/{ID}\"\n",
    "    response = requests.delete(url, headers=requestHeaders)"
   ]
  },
  {
   "cell_type": "code",
   "execution_count": 59,
   "id": "7623a001",
   "metadata": {},
   "outputs": [
    {
     "name": "stdout",
     "output_type": "stream",
     "text": [
      "2\n"
     ]
    },
    {
     "data": {
      "text/plain": [
       "dict"
      ]
     },
     "execution_count": 59,
     "metadata": {},
     "output_type": "execute_result"
    }
   ],
   "source": [
    "print(len(r['entities']))\n",
    "type(r)"
   ]
  },
  {
   "cell_type": "markdown",
   "id": "c5816800",
   "metadata": {},
   "source": [
    "# Read xlsx file from report and export it as DF"
   ]
  },
  {
   "cell_type": "code",
   "execution_count": 10,
   "id": "a09c03ca",
   "metadata": {
    "tags": []
   },
   "outputs": [],
   "source": [
    "def data_frame_from_xlsx(report: dict, xls_file: str = \"report_file.xls\", remove: bool = True) -> pd.DataFrame:\n",
    "    for var in report['entities']:\n",
    "        if \"lastRun\" in var.keys():\n",
    "            url = var[\"lastRun\"][\"reportUrl\"]\n",
    "            response = requests.get(url, headers=requestHeaders)\n",
    "            print(response.json())\n",
    "            \n",
    "            # open(xls_file, \"wb\").write(response.content)\n",
    "            # df = pd.read_excel(xls_file, header=6)\n",
    "            # if remove: os.remove(xls_file)\n",
    "\n",
    "            # return df"
   ]
  },
  {
   "cell_type": "code",
   "execution_count": 11,
   "id": "7a9dfdf4",
   "metadata": {
    "scrolled": true,
    "tags": []
   },
   "outputs": [
    {
     "ename": "JSONDecodeError",
     "evalue": "Expecting value: line 1 column 1 (char 0)",
     "output_type": "error",
     "traceback": [
      "\u001b[0;31m---------------------------------------------------------------------------\u001b[0m",
      "\u001b[0;31mJSONDecodeError\u001b[0m                           Traceback (most recent call last)",
      "Input \u001b[0;32mIn [11]\u001b[0m, in \u001b[0;36m<cell line: 1>\u001b[0;34m()\u001b[0m\n\u001b[0;32m----> 1\u001b[0m data \u001b[38;5;241m=\u001b[39m \u001b[43mdata_frame_from_xlsx\u001b[49m\u001b[43m(\u001b[49m\u001b[43mr\u001b[49m\u001b[43m,\u001b[49m\u001b[43m \u001b[49m\u001b[43mremove\u001b[49m\u001b[43m \u001b[49m\u001b[38;5;241;43m=\u001b[39;49m\u001b[43m \u001b[49m\u001b[38;5;28;43;01mTrue\u001b[39;49;00m\u001b[43m)\u001b[49m\n\u001b[1;32m      2\u001b[0m \u001b[38;5;28mprint\u001b[39m(data)\n",
      "Input \u001b[0;32mIn [10]\u001b[0m, in \u001b[0;36mdata_frame_from_xlsx\u001b[0;34m(report, xls_file, remove)\u001b[0m\n\u001b[1;32m      4\u001b[0m url \u001b[38;5;241m=\u001b[39m var[\u001b[38;5;124m\"\u001b[39m\u001b[38;5;124mlastRun\u001b[39m\u001b[38;5;124m\"\u001b[39m][\u001b[38;5;124m\"\u001b[39m\u001b[38;5;124mreportUrl\u001b[39m\u001b[38;5;124m\"\u001b[39m]\n\u001b[1;32m      5\u001b[0m response \u001b[38;5;241m=\u001b[39m requests\u001b[38;5;241m.\u001b[39mget(url, headers\u001b[38;5;241m=\u001b[39mrequestHeaders)\n\u001b[0;32m----> 6\u001b[0m \u001b[38;5;28mprint\u001b[39m(\u001b[43mresponse\u001b[49m\u001b[38;5;241;43m.\u001b[39;49m\u001b[43mjson\u001b[49m\u001b[43m(\u001b[49m\u001b[43m)\u001b[49m)\n",
      "File \u001b[0;32m/usr/local/lib/python3.8/site-packages/requests/models.py:900\u001b[0m, in \u001b[0;36mResponse.json\u001b[0;34m(self, **kwargs)\u001b[0m\n\u001b[1;32m    894\u001b[0m         \u001b[38;5;28;01mexcept\u001b[39;00m \u001b[38;5;167;01mUnicodeDecodeError\u001b[39;00m:\n\u001b[1;32m    895\u001b[0m             \u001b[38;5;66;03m# Wrong UTF codec detected; usually because it's not UTF-8\u001b[39;00m\n\u001b[1;32m    896\u001b[0m             \u001b[38;5;66;03m# but some other 8-bit codec.  This is an RFC violation,\u001b[39;00m\n\u001b[1;32m    897\u001b[0m             \u001b[38;5;66;03m# and the server didn't bother to tell us what codec *was*\u001b[39;00m\n\u001b[1;32m    898\u001b[0m             \u001b[38;5;66;03m# used.\u001b[39;00m\n\u001b[1;32m    899\u001b[0m             \u001b[38;5;28;01mpass\u001b[39;00m\n\u001b[0;32m--> 900\u001b[0m \u001b[38;5;28;01mreturn\u001b[39;00m \u001b[43mcomplexjson\u001b[49m\u001b[38;5;241;43m.\u001b[39;49m\u001b[43mloads\u001b[49m\u001b[43m(\u001b[49m\u001b[38;5;28;43mself\u001b[39;49m\u001b[38;5;241;43m.\u001b[39;49m\u001b[43mtext\u001b[49m\u001b[43m,\u001b[49m\u001b[43m \u001b[49m\u001b[38;5;241;43m*\u001b[39;49m\u001b[38;5;241;43m*\u001b[39;49m\u001b[43mkwargs\u001b[49m\u001b[43m)\u001b[49m\n",
      "File \u001b[0;32m/usr/local/lib/python3.8/json/__init__.py:357\u001b[0m, in \u001b[0;36mloads\u001b[0;34m(s, cls, object_hook, parse_float, parse_int, parse_constant, object_pairs_hook, **kw)\u001b[0m\n\u001b[1;32m    352\u001b[0m     \u001b[38;5;28;01mdel\u001b[39;00m kw[\u001b[38;5;124m'\u001b[39m\u001b[38;5;124mencoding\u001b[39m\u001b[38;5;124m'\u001b[39m]\n\u001b[1;32m    354\u001b[0m \u001b[38;5;28;01mif\u001b[39;00m (\u001b[38;5;28mcls\u001b[39m \u001b[38;5;129;01mis\u001b[39;00m \u001b[38;5;28;01mNone\u001b[39;00m \u001b[38;5;129;01mand\u001b[39;00m object_hook \u001b[38;5;129;01mis\u001b[39;00m \u001b[38;5;28;01mNone\u001b[39;00m \u001b[38;5;129;01mand\u001b[39;00m\n\u001b[1;32m    355\u001b[0m         parse_int \u001b[38;5;129;01mis\u001b[39;00m \u001b[38;5;28;01mNone\u001b[39;00m \u001b[38;5;129;01mand\u001b[39;00m parse_float \u001b[38;5;129;01mis\u001b[39;00m \u001b[38;5;28;01mNone\u001b[39;00m \u001b[38;5;129;01mand\u001b[39;00m\n\u001b[1;32m    356\u001b[0m         parse_constant \u001b[38;5;129;01mis\u001b[39;00m \u001b[38;5;28;01mNone\u001b[39;00m \u001b[38;5;129;01mand\u001b[39;00m object_pairs_hook \u001b[38;5;129;01mis\u001b[39;00m \u001b[38;5;28;01mNone\u001b[39;00m \u001b[38;5;129;01mand\u001b[39;00m \u001b[38;5;129;01mnot\u001b[39;00m kw):\n\u001b[0;32m--> 357\u001b[0m     \u001b[38;5;28;01mreturn\u001b[39;00m \u001b[43m_default_decoder\u001b[49m\u001b[38;5;241;43m.\u001b[39;49m\u001b[43mdecode\u001b[49m\u001b[43m(\u001b[49m\u001b[43ms\u001b[49m\u001b[43m)\u001b[49m\n\u001b[1;32m    358\u001b[0m \u001b[38;5;28;01mif\u001b[39;00m \u001b[38;5;28mcls\u001b[39m \u001b[38;5;129;01mis\u001b[39;00m \u001b[38;5;28;01mNone\u001b[39;00m:\n\u001b[1;32m    359\u001b[0m     \u001b[38;5;28mcls\u001b[39m \u001b[38;5;241m=\u001b[39m JSONDecoder\n",
      "File \u001b[0;32m/usr/local/lib/python3.8/json/decoder.py:337\u001b[0m, in \u001b[0;36mJSONDecoder.decode\u001b[0;34m(self, s, _w)\u001b[0m\n\u001b[1;32m    332\u001b[0m \u001b[38;5;28;01mdef\u001b[39;00m \u001b[38;5;21mdecode\u001b[39m(\u001b[38;5;28mself\u001b[39m, s, _w\u001b[38;5;241m=\u001b[39mWHITESPACE\u001b[38;5;241m.\u001b[39mmatch):\n\u001b[1;32m    333\u001b[0m     \u001b[38;5;124;03m\"\"\"Return the Python representation of ``s`` (a ``str`` instance\u001b[39;00m\n\u001b[1;32m    334\u001b[0m \u001b[38;5;124;03m    containing a JSON document).\u001b[39;00m\n\u001b[1;32m    335\u001b[0m \n\u001b[1;32m    336\u001b[0m \u001b[38;5;124;03m    \"\"\"\u001b[39;00m\n\u001b[0;32m--> 337\u001b[0m     obj, end \u001b[38;5;241m=\u001b[39m \u001b[38;5;28;43mself\u001b[39;49m\u001b[38;5;241;43m.\u001b[39;49m\u001b[43mraw_decode\u001b[49m\u001b[43m(\u001b[49m\u001b[43ms\u001b[49m\u001b[43m,\u001b[49m\u001b[43m \u001b[49m\u001b[43midx\u001b[49m\u001b[38;5;241;43m=\u001b[39;49m\u001b[43m_w\u001b[49m\u001b[43m(\u001b[49m\u001b[43ms\u001b[49m\u001b[43m,\u001b[49m\u001b[43m \u001b[49m\u001b[38;5;241;43m0\u001b[39;49m\u001b[43m)\u001b[49m\u001b[38;5;241;43m.\u001b[39;49m\u001b[43mend\u001b[49m\u001b[43m(\u001b[49m\u001b[43m)\u001b[49m\u001b[43m)\u001b[49m\n\u001b[1;32m    338\u001b[0m     end \u001b[38;5;241m=\u001b[39m _w(s, end)\u001b[38;5;241m.\u001b[39mend()\n\u001b[1;32m    339\u001b[0m     \u001b[38;5;28;01mif\u001b[39;00m end \u001b[38;5;241m!=\u001b[39m \u001b[38;5;28mlen\u001b[39m(s):\n",
      "File \u001b[0;32m/usr/local/lib/python3.8/json/decoder.py:355\u001b[0m, in \u001b[0;36mJSONDecoder.raw_decode\u001b[0;34m(self, s, idx)\u001b[0m\n\u001b[1;32m    353\u001b[0m     obj, end \u001b[38;5;241m=\u001b[39m \u001b[38;5;28mself\u001b[39m\u001b[38;5;241m.\u001b[39mscan_once(s, idx)\n\u001b[1;32m    354\u001b[0m \u001b[38;5;28;01mexcept\u001b[39;00m \u001b[38;5;167;01mStopIteration\u001b[39;00m \u001b[38;5;28;01mas\u001b[39;00m err:\n\u001b[0;32m--> 355\u001b[0m     \u001b[38;5;28;01mraise\u001b[39;00m JSONDecodeError(\u001b[38;5;124m\"\u001b[39m\u001b[38;5;124mExpecting value\u001b[39m\u001b[38;5;124m\"\u001b[39m, s, err\u001b[38;5;241m.\u001b[39mvalue) \u001b[38;5;28;01mfrom\u001b[39;00m \u001b[38;5;28mNone\u001b[39m\n\u001b[1;32m    356\u001b[0m \u001b[38;5;28;01mreturn\u001b[39;00m obj, end\n",
      "\u001b[0;31mJSONDecodeError\u001b[0m: Expecting value: line 1 column 1 (char 0)"
     ]
    }
   ],
   "source": [
    "data = data_frame_from_xlsx(r, remove = True)\n",
    "print(data)"
   ]
  },
  {
   "cell_type": "markdown",
   "id": "583af8f5",
   "metadata": {},
   "source": [
    "# schedule a report"
   ]
  },
  {
   "cell_type": "code",
   "execution_count": null,
   "id": "21e1793b",
   "metadata": {},
   "outputs": [],
   "source": []
  },
  {
   "cell_type": "code",
   "execution_count": null,
   "id": "054c58a2",
   "metadata": {},
   "outputs": [],
   "source": []
  },
  {
   "cell_type": "code",
   "execution_count": null,
   "id": "8fea10d8",
   "metadata": {},
   "outputs": [],
   "source": []
  },
  {
   "cell_type": "code",
   "execution_count": null,
   "id": "27a8a706",
   "metadata": {},
   "outputs": [],
   "source": []
  },
  {
   "cell_type": "code",
   "execution_count": null,
   "id": "b45b7139",
   "metadata": {},
   "outputs": [],
   "source": []
  },
  {
   "cell_type": "markdown",
   "id": "b0967349",
   "metadata": {},
   "source": [
    "# Queue Metrics Interval Export"
   ]
  },
  {
   "cell_type": "markdown",
   "id": "0eceb95c",
   "metadata": {},
   "source": [
    "{\n",
    "   \"name\": \"\",\n",
    "   \"quartzCronExpression\": \"\",   (required)\n",
    "   \"nextFireTime\": \"\",\n",
    "   \"dateCreated\": \"\",\n",
    "   \"dateModified\": \"\",\n",
    "   \"description\": \"\",\n",
    "   \"timeZone\": \"\",\n",
    "   \"timePeriod\": \"\",\n",
    "   \"interval\": \"\",               (required)\n",
    "   \"reportFormat\": \"\",\n",
    "   \"locale\": \"\",\n",
    "   \"enabled\": true,\n",
    "   \"reportId\": \"\",               (required)\n",
    "   \"parameters\": {},\n",
    "   \"lastRun\": {\n",
    "      \"name\": \"\",\n",
    "      \"reportId\": \"\",\n",
    "      \"runTime\": \"\",\n",
    "      \"runStatus\": \"\",\n",
    "      \"errorMessage\": \"\",\n",
    "      \"runDurationMsec\": 0,\n",
    "      \"reportUrl\": \"\",\n",
    "      \"reportFormat\": \"\",\n",
    "      \"scheduleUri\": \"\"\n",
    "   }\n",
    "}"
   ]
  },
  {
   "cell_type": "code",
   "execution_count": 29,
   "id": "a580ab02",
   "metadata": {},
   "outputs": [
    {
     "name": "stdout",
     "output_type": "stream",
     "text": [
      "{\"name\": \"test report 3\", \"quartzCronExpression\": \"0 15 14 * * ?\", \"description\": \"Export test 3\", \"timeZone\": \"Europe/Warsaw\", \"timePeriod\": \"USE_INTERVAL\", \"interval\": \"2022-07-012T22:00:00.000Z/2022-07-012T22:00:00.000Z\", \"reportFormat\": \"XLS\", \"enabled\": true, \"reportId\": \"03bc1eef-082e-46c1-b9a8-fe45fbc3b205\"}\n"
     ]
    }
   ],
   "source": [
    "# quartzCronExpression (create firing schedules)\n",
    "# sec min hour day month day_of_week year\n",
    "# http://www.quartz-scheduler.org/documentation/quartz-2.3.0/tutorials/crontrigger.html\n",
    "# report ID:\n",
    "# Queue Metrics Summary Report: 03bc1eef-082e-46c1-b9a8-fe45fbc3b205\n",
    "\n",
    "\n",
    "data_to_schedule = {\n",
    "   \"name\": \"test report 3\",\n",
    "   \"quartzCronExpression\": \"0 15 14 * * ?\",\n",
    "   \"description\": \"Export test 3\",\n",
    "   \"timeZone\": \"Europe/Warsaw\",\n",
    "   \"timePeriod\": \"USE_INTERVAL\",\n",
    "   \"interval\": \"2022-07-012T22:00:00.000Z/2022-07-012T22:00:00.000Z\",\n",
    "   \"reportFormat\": \"XLS\",\n",
    "   \"enabled\": True,\n",
    "   \"reportId\": \"03bc1eef-082e-46c1-b9a8-fe45fbc3b205\"\n",
    "}\n",
    "print(json.dumps(data_to_schedule))"
   ]
  },
  {
   "cell_type": "code",
   "execution_count": null,
   "id": "f72f3144",
   "metadata": {},
   "outputs": [],
   "source": [
    "requestHeaders = {\n",
    "    \"Authorization\": f\"{ response_json['token_type'] } { response_json['access_token']}\",\n",
    "    \"Content-Type\": \"application/json\"\n",
    "}\n",
    "\n"
   ]
  },
  {
   "cell_type": "code",
   "execution_count": null,
   "id": "3e195267",
   "metadata": {},
   "outputs": [],
   "source": [
    "# RAPORT ID 03bc1eef-082e-46c1-b9a8-fe45fbc3b205"
   ]
  }
 ],
 "metadata": {
  "kernelspec": {
   "display_name": "Python 3 (ipykernel)",
   "language": "python",
   "name": "python3"
  },
  "language_info": {
   "codemirror_mode": {
    "name": "ipython",
    "version": 3
   },
   "file_extension": ".py",
   "mimetype": "text/x-python",
   "name": "python",
   "nbconvert_exporter": "python",
   "pygments_lexer": "ipython3",
   "version": "3.8.12"
  }
 },
 "nbformat": 4,
 "nbformat_minor": 5
}
