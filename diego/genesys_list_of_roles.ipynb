{
 "cells": [
  {
   "cell_type": "code",
   "execution_count": 195,
   "id": "3af841cf",
   "metadata": {},
   "outputs": [],
   "source": [
    "from pprint import pprint\n",
    "import base64, requests, sys, os, json\n",
    "import pandas as pd\n",
    "import numpy as np\n",
    "import warnings\n",
    "\n",
    "warnings.filterwarnings(\"ignore\", message=\"Workbook contains no default style, apply openpyxl's default\")"
   ]
  },
  {
   "cell_type": "code",
   "execution_count": 3,
   "id": "a0bd9fe6",
   "metadata": {},
   "outputs": [],
   "source": [
    "# DATA LAKE\n",
    "CLIENT_ID = '66a08b11-c3c4-4a45-9912-2b42ffc9bc25'\n",
    "CLIENT_SECRET = 'msJj0hjryI4uW3sZdMfA-6P6SeP4jSh9VylYN2297rM'"
   ]
  },
  {
   "cell_type": "markdown",
   "id": "e5bdcbb8",
   "metadata": {},
   "source": [
    "#### michal winiarski\n",
    "CLIENT_ID = '1d9f9c0e-d7ca-413d-bcac-103b3cd63f74'\n",
    "\n",
    "CLIENT_SECRET = 'y7LWZsfBNjB0VlTvEpkC1t7DGSV3HIh2Ga6p_zLC4X0'"
   ]
  },
  {
   "cell_type": "markdown",
   "id": "83c4cba0",
   "metadata": {},
   "source": [
    "# get a report"
   ]
  },
  {
   "cell_type": "code",
   "execution_count": 8,
   "id": "e909d649",
   "metadata": {},
   "outputs": [
    {
     "name": "stdout",
     "output_type": "stream",
     "text": [
      "<class 'dict'>\n",
      "<class 'str'>\n"
     ]
    }
   ],
   "source": [
    "data_to_post = {\n",
    "   \"name\": \"Export Test POST\",\n",
    "   \"quartzCronExpression\": \"0 14 * * * ?\",\n",
    "   \"nextFireTime\": \"2022-07-07T16:14:00.000Z\",\n",
    "   \"dateCreated\": \"2022-07-07T08:04:01.363Z\",\n",
    "   \"dateModified\": \"2022-07-07T14:27:59.446Z\",\n",
    "   \"description\": \"Export Test 2\",\n",
    "   \"timeZone\": \"Europe/Warsaw\",\n",
    "   \"timePeriod\": \"USE_INTERVAL\",\n",
    "   \"interval\": \"2022-07-05T22:00:00.000Z/2022-07-06T22:00:00.000Z\",\n",
    "   \"reportFormat\": \"XLS\",\n",
    "   \"locale\": \"en_US\",\n",
    "   \"enabled\": True,\n",
    "   \"reportId\": \"03bc1eef-082e-46c1-b9a8-fe45fbc3b205\",\n",
    "   \"parameters\": {\"queueIds\": [\n",
    "          \"780807e6-83b9-44be-aff0-a41c37fab004\",\n",
    "          \"383ee5e5-5d8f-406c-ad53-835b69fe82c5\",\n",
    "          \"d4fa7080-63d3-47ea-bcde-a4f89ae2870c\",\n",
    "          \"427b6226-cafd-4425-ba20-4e7dd8561088\",\n",
    "          \"e0efef7f-b61a-4caf-b71b-002595c6899e\",\n",
    "          \"b44af752-2ce4-4810-8b83-6d131f493e23\",\n",
    "          \"247586a2-986f-4078-b28e-e0a5694ec726\"\n",
    "        ],\n",
    "        \"mediaTypes\": []},\n",
    "   \"lastRun\": {\n",
    "      \"name\": \"\",\n",
    "      \"reportId\": \"\",\n",
    "      \"runTime\": \"\",\n",
    "      \"runStatus\": \"\",\n",
    "      \"errorMessage\": \"\",\n",
    "      \"runDurationMsec\": 0,\n",
    "      \"reportUrl\": \"\",\n",
    "      \"reportFormat\": \"\",\n",
    "      \"scheduleUri\": \"\"\n",
    "   }\n",
    "}\n",
    "print(type(data_to_post))\n",
    "\n",
    "print(type(json.dumps(data_to_post)))"
   ]
  },
  {
   "cell_type": "markdown",
   "id": "1cb258ec",
   "metadata": {},
   "source": [
    "### create a token"
   ]
  },
  {
   "cell_type": "code",
   "execution_count": 4,
   "id": "e1549f0c",
   "metadata": {},
   "outputs": [
    {
     "name": "stdout",
     "output_type": "stream",
     "text": [
      "URL: https://login.mypurecloud.de/oauth/token\n"
     ]
    }
   ],
   "source": [
    "ENVIRONMENT = 'mypurecloud.de'\n",
    "url = f\"https://login.{ENVIRONMENT}/oauth/token\"\n",
    "print(f\"URL: {url}\")\n",
    "\n",
    "# Base64 encode the client ID and client secret\n",
    "authorization = base64.b64encode(bytes(CLIENT_ID + \":\" + CLIENT_SECRET, \"ISO-8859-1\")).decode(\"ascii\")\n",
    "# print(f\"AUTHORIZATION: {authorization}\")"
   ]
  },
  {
   "cell_type": "code",
   "execution_count": 5,
   "id": "669527a0",
   "metadata": {},
   "outputs": [
    {
     "name": "stdout",
     "output_type": "stream",
     "text": [
      "Got token\n"
     ]
    }
   ],
   "source": [
    "# Prepare for POST /oauth/token request\n",
    "request_headers = {\n",
    "    \"Authorization\": f\"Basic {authorization}\",\n",
    "    \"Content-Type\": \"application/x-www-form-urlencoded\"\n",
    "}\n",
    "request_body = {\n",
    "    \"grant_type\": \"client_credentials\"\n",
    "}\n",
    "\n",
    "# Get token\n",
    "response = requests.post(url, data=request_body, headers=request_headers)\n",
    "\n",
    "# Check response\n",
    "if response.status_code == 200:\n",
    "    print(\"Got token\")\n",
    "else:\n",
    "    print(f\"Failure: { str(response.status_code) } - { response.reason }\")\n",
    "    sys.exit(response.status_code)\n",
    "\n",
    "# Get JSON response body\n",
    "response_json = response.json()"
   ]
  },
  {
   "cell_type": "markdown",
   "id": "86a59d40",
   "metadata": {},
   "source": [
    "### send credentials and the report schedule"
   ]
  },
  {
   "cell_type": "code",
   "execution_count": 9,
   "id": "96f04a81",
   "metadata": {
    "tags": []
   },
   "outputs": [],
   "source": [
    "# Once we post to get the token, post all data we want\n",
    "requestHeaders = {\n",
    "    \"Authorization\": f\"{ response_json['token_type'] } { response_json['access_token']}\",\n",
    "    'Content-Type': 'application/json'\n",
    "}\n",
    "\n",
    "url = f\"https://api.{ENVIRONMENT}/api/v2/analytics/reporting/schedules\"\n",
    "\n",
    "response = requests.post(url, headers=requestHeaders, data=json.dumps(data_to_post))"
   ]
  },
  {
   "cell_type": "markdown",
   "id": "03b71837",
   "metadata": {},
   "source": [
    "### get the response"
   ]
  },
  {
   "cell_type": "code",
   "execution_count": 10,
   "id": "0903ba82",
   "metadata": {
    "tags": []
   },
   "outputs": [
    {
     "name": "stdout",
     "output_type": "stream",
     "text": [
      "https://api.mypurecloud.de/api/v2/analytics/reporting/schedules\n",
      "\n",
      "Got reporting/schedules\n"
     ]
    }
   ],
   "source": [
    "# Prepare for GET /api/v2/authorization/roles request\n",
    "requestHeaders = {\n",
    "    \"Authorization\": f\"{ response_json['token_type'] } { response_json['access_token']}\",\n",
    "    \"Content-Type\": \"application/json\"\n",
    "}\n",
    "\n",
    "url = f\"https://api.{ENVIRONMENT}/api/v2/analytics/reporting/schedules\"\n",
    "print(url, end=\"\\n\\n\")\n",
    "\n",
    "response = requests.get(url, headers=requestHeaders)\n",
    "\n",
    "# Check response\n",
    "if response.status_code == 200:\n",
    "    print(\"Got reporting/schedules\")\n",
    "else:\n",
    "    print(f\"Failure: { str(response.status_code) } - { response.reason }\")\n",
    "\n",
    "\n",
    "r = response.json()"
   ]
  },
  {
   "cell_type": "markdown",
   "id": "4d0a4914",
   "metadata": {},
   "source": [
    "### print the result in a friendly way"
   ]
  },
  {
   "cell_type": "code",
   "execution_count": 28,
   "id": "5e22ff7b-697c-4629-b07c-53bc50b57c8f",
   "metadata": {},
   "outputs": [
    {
     "data": {
      "text/plain": [
       "{'entities': [{'id': '71896c7a-75c1-48f5-b84a-69c579bedc45',\n",
       "   'quartzCronExpression': '0 14 * * * ?',\n",
       "   'nextFireTime': '2022-07-12T13:14:00.000Z',\n",
       "   'dateCreated': '2022-07-12T11:23:38.538Z',\n",
       "   'dateModified': '2022-07-12T11:23:38.538Z',\n",
       "   'description': 'Export Test 2',\n",
       "   'timeZone': 'Europe/Warsaw',\n",
       "   'timePeriod': 'USE_INTERVAL',\n",
       "   'interval': '2022-07-05T22:00:00.000Z/2022-07-06T22:00:00.000Z',\n",
       "   'reportFormat': 'XLS',\n",
       "   'locale': 'en_US',\n",
       "   'enabled': True,\n",
       "   'reportId': '03bc1eef-082e-46c1-b9a8-fe45fbc3b205',\n",
       "   'parameters': {'queueIds': ['780807e6-83b9-44be-aff0-a41c37fab004',\n",
       "     '383ee5e5-5d8f-406c-ad53-835b69fe82c5',\n",
       "     'd4fa7080-63d3-47ea-bcde-a4f89ae2870c',\n",
       "     '427b6226-cafd-4425-ba20-4e7dd8561088',\n",
       "     'e0efef7f-b61a-4caf-b71b-002595c6899e'],\n",
       "    'mediaTypes': []},\n",
       "   'selfUri': '/api/v2/analytics/reporting/schedules/71896c7a-75c1-48f5-b84a-69c579bedc45'},\n",
       "  {'id': '6e17ac92-d6e9-4437-81af-a4d2acbf48bd',\n",
       "   'quartzCronExpression': '0 15 * * * ?',\n",
       "   'nextFireTime': '2022-07-12T13:15:00.000Z',\n",
       "   'dateCreated': '2022-07-12T11:12:47.865Z',\n",
       "   'dateModified': '2022-07-12T11:12:47.865Z',\n",
       "   'description': 'Export Test POST',\n",
       "   'timeZone': 'Europe/Warsaw',\n",
       "   'timePeriod': 'YESTERDAY',\n",
       "   'interval': '2022-07-10T22:00:00.000Z/2022-07-11T22:00:00.000Z',\n",
       "   'reportFormat': 'XLS',\n",
       "   'locale': 'en_US',\n",
       "   'enabled': True,\n",
       "   'reportId': '03bc1eef-082e-46c1-b9a8-fe45fbc3b205',\n",
       "   'parameters': {'queueIds': ['780807e6-83b9-44be-aff0-a41c37fab004',\n",
       "     '383ee5e5-5d8f-406c-ad53-835b69fe82c5',\n",
       "     'd4fa7080-63d3-47ea-bcde-a4f89ae2870c',\n",
       "     '427b6226-cafd-4425-ba20-4e7dd8561088',\n",
       "     'e0efef7f-b61a-4caf-b71b-002595c6899e'],\n",
       "    'mediaTypes': []},\n",
       "   'lastRun': {'id': '511584ac-1dbd-4452-8d6f-36a8eeca9480',\n",
       "    'reportId': '03bc1eef-082e-46c1-b9a8-fe45fbc3b205',\n",
       "    'runTime': '2022-07-12T11:15:05.566Z',\n",
       "    'runStatus': 'COMPLETED',\n",
       "    'runDurationMsec': 1752,\n",
       "    'reportUrl': 'https://apps.mypurecloud.de/platform/api/v2/downloads/27ae5768ae6c042e',\n",
       "    'reportFormat': 'XLS',\n",
       "    'scheduleUri': '/api/v2/analytics/reporting/schedules/6e17ac92-d6e9-4437-81af-a4d2acbf48bd',\n",
       "    'selfUri': '/api/v2/analytics/reporting/schedules/6e17ac92-d6e9-4437-81af-a4d2acbf48bd/history/511584ac-1dbd-4452-8d6f-36a8eeca9480'},\n",
       "   'selfUri': '/api/v2/analytics/reporting/schedules/6e17ac92-d6e9-4437-81af-a4d2acbf48bd'}],\n",
       " 'pageSize': 25,\n",
       " 'pageNumber': 1,\n",
       " 'total': 2,\n",
       " 'firstUri': '/api/v2/analytics/reporting/schedules?pageSize=25&pageNumber=1',\n",
       " 'selfUri': '/api/v2/analytics/reporting/schedules?pageSize=25&pageNumber=1',\n",
       " 'lastUri': '/api/v2/analytics/reporting/schedules?pageSize=25&pageNumber=1',\n",
       " 'pageCount': 1}"
      ]
     },
     "execution_count": 28,
     "metadata": {},
     "output_type": "execute_result"
    }
   ],
   "source": [
    "r"
   ]
  },
  {
   "cell_type": "code",
   "execution_count": 29,
   "id": "55a9d914",
   "metadata": {},
   "outputs": [
    {
     "name": "stdout",
     "output_type": "stream",
     "text": [
      "\n",
      "entities: [\n",
      " | \n",
      " | | id: 71896c7a-75c1-48f5-b84a-69c579bedc45\n",
      " | | quartzCronExpression: 0 14 * * * ?\n",
      " | | nextFireTime: 2022-07-12T13:14:00.000Z\n",
      " | | dateCreated: 2022-07-12T11:23:38.538Z\n",
      " | | dateModified: 2022-07-12T11:23:38.538Z\n",
      " | | description: Export Test 2\n",
      " | | timeZone: Europe/Warsaw\n",
      " | | timePeriod: USE_INTERVAL\n",
      " | | interval: 2022-07-05T22:00:00.000Z/2022-07-06T22:00:00.000Z\n",
      " | | reportFormat: XLS\n",
      " | | locale: en_US\n",
      " | | enabled: true\n",
      " | | reportId: 03bc1eef-082e-46c1-b9a8-fe45fbc3b205\n",
      " | | parameters: \n",
      " | | | queueIds: [\n",
      " | | | | 780807e6-83b9-44be-aff0-a41c37fab004\n",
      " | | | | 383ee5e5-5d8f-406c-ad53-835b69fe82c5\n",
      " | | | | d4fa7080-63d3-47ea-bcde-a4f89ae2870c\n",
      " | | | | 427b6226-cafd-4425-ba20-4e7dd8561088\n",
      " | | | | e0efef7f-b61a-4caf-b71b-002595c6899e\n",
      " | | | ]\n",
      " | | | mediaTypes: []\n",
      " | | \n",
      " | | selfUri: /api/v2/analytics/reporting/schedules/71896c7a-75c1-48f5-b84a-69c579bedc45\n",
      " | \n",
      " | \n",
      " | | id: 6e17ac92-d6e9-4437-81af-a4d2acbf48bd\n",
      " | | quartzCronExpression: 0 15 * * * ?\n",
      " | | nextFireTime: 2022-07-12T13:15:00.000Z\n",
      " | | dateCreated: 2022-07-12T11:12:47.865Z\n",
      " | | dateModified: 2022-07-12T11:12:47.865Z\n",
      " | | description: Export Test POST\n",
      " | | timeZone: Europe/Warsaw\n",
      " | | timePeriod: YESTERDAY\n",
      " | | interval: 2022-07-10T22:00:00.000Z/2022-07-11T22:00:00.000Z\n",
      " | | reportFormat: XLS\n",
      " | | locale: en_US\n",
      " | | enabled: true\n",
      " | | reportId: 03bc1eef-082e-46c1-b9a8-fe45fbc3b205\n",
      " | | parameters: \n",
      " | | | queueIds: [\n",
      " | | | | 780807e6-83b9-44be-aff0-a41c37fab004\n",
      " | | | | 383ee5e5-5d8f-406c-ad53-835b69fe82c5\n",
      " | | | | d4fa7080-63d3-47ea-bcde-a4f89ae2870c\n",
      " | | | | 427b6226-cafd-4425-ba20-4e7dd8561088\n",
      " | | | | e0efef7f-b61a-4caf-b71b-002595c6899e\n",
      " | | | ]\n",
      " | | | mediaTypes: []\n",
      " | | \n",
      " | | lastRun: \n",
      " | | | id: 511584ac-1dbd-4452-8d6f-36a8eeca9480\n",
      " | | | reportId: 03bc1eef-082e-46c1-b9a8-fe45fbc3b205\n",
      " | | | runTime: 2022-07-12T11:15:05.566Z\n",
      " | | | runStatus: COMPLETED\n",
      " | | | runDurationMsec: 1752\n",
      " | | | reportUrl: https://apps.mypurecloud.de/platform/api/v2/downloads/27ae5768ae6c042e\n",
      " | | | reportFormat: XLS\n",
      " | | | scheduleUri: /api/v2/analytics/reporting/schedules/6e17ac92-d6e9-4437-81af-a4d2acbf48bd\n",
      " | | | selfUri: /api/v2/analytics/reporting/schedules/6e17ac92-d6e9-4437-81af-a4d2acbf48bd/history/511584ac-1dbd-4452-8d6f-36a8eeca9480\n",
      " | | \n",
      " | | selfUri: /api/v2/analytics/reporting/schedules/6e17ac92-d6e9-4437-81af-a4d2acbf48bd\n",
      " | \n",
      "]\n",
      "pageSize: 25\n",
      "pageNumber: 1\n",
      "total: 2\n",
      "firstUri: /api/v2/analytics/reporting/schedules?pageSize=25&pageNumber=1\n",
      "selfUri: /api/v2/analytics/reporting/schedules?pageSize=25&pageNumber=1\n",
      "lastUri: /api/v2/analytics/reporting/schedules?pageSize=25&pageNumber=1\n",
      "pageCount: 1\n",
      "\n"
     ]
    }
   ],
   "source": [
    "tree_str = json.dumps(r, indent=4)\n",
    "tree_str = tree_str.replace(\"\\n    \", \"\\n\")\n",
    "tree_str = tree_str.replace('\"', \"\")\n",
    "tree_str = tree_str.replace(',', \"\")\n",
    "tree_str = tree_str.replace(\"{\", \"\")\n",
    "tree_str = tree_str.replace(\"}\", \"\")\n",
    "tree_str = tree_str.replace(\"    \", \" | \")\n",
    "tree_str = tree_str.replace(\"  \", \" \")\n",
    "\n",
    "print(tree_str)"
   ]
  },
  {
   "cell_type": "markdown",
   "id": "21432775",
   "metadata": {},
   "source": [
    "# Remove entries of a report"
   ]
  },
  {
   "cell_type": "code",
   "execution_count": 60,
   "id": "9350d8a9",
   "metadata": {},
   "outputs": [
    {
     "name": "stdout",
     "output_type": "stream",
     "text": [
      "['76beee10-531a-40ed-b483-c5b376e16431']\n"
     ]
    }
   ],
   "source": [
    "all_ids = [val['id'] for i, val in enumerate(r['entities'])]\n",
    "print(all_ids)"
   ]
  },
  {
   "cell_type": "code",
   "execution_count": 61,
   "id": "fbbc8034",
   "metadata": {},
   "outputs": [],
   "source": [
    "for ID in all_ids:\n",
    "    url = f\"https://api.{ENVIRONMENT}/api/v2/analytics/reporting/schedules/{ID}\"\n",
    "    response = requests.delete(url, headers=requestHeaders)"
   ]
  },
  {
   "cell_type": "code",
   "execution_count": 59,
   "id": "1d4addc5",
   "metadata": {},
   "outputs": [
    {
     "name": "stdout",
     "output_type": "stream",
     "text": [
      "2\n"
     ]
    },
    {
     "data": {
      "text/plain": [
       "dict"
      ]
     },
     "execution_count": 59,
     "metadata": {},
     "output_type": "execute_result"
    }
   ],
   "source": [
    "print(len(r['entities']))\n",
    "type(r)"
   ]
  },
  {
   "cell_type": "markdown",
   "id": "32a38cd6-8efd-490b-a992-75b68ab9a4b8",
   "metadata": {},
   "source": [
    "# Read xlsx file from report and export it as DF"
   ]
  },
  {
   "cell_type": "code",
   "execution_count": 198,
   "id": "b30cf9db-238e-4994-843f-2e2f1136e1d1",
   "metadata": {
    "tags": []
   },
   "outputs": [],
   "source": [
    "def data_frame_from_xlsx(report: dict, xls_file: str = \"report_file.xls\", remove: bool = True) -> pd.DataFrame:\n",
    "    for var in report['entities']:\n",
    "        if \"lastRun\" in var.keys():\n",
    "            url = var[\"lastRun\"][\"reportUrl\"]\n",
    "            response = requests.get(url, headers=requestHeaders)\n",
    "            \n",
    "            open(xls_file, \"wb\").write(response.content)\n",
    "            df = pd.read_excel(\"report_file.xls\", header=6)\n",
    "            if remove: os.remove(xls_file)\n",
    "\n",
    "            return df"
   ]
  },
  {
   "cell_type": "code",
   "execution_count": 199,
   "id": "e4ef173a-a560-4741-be9c-a0302bf34b4c",
   "metadata": {
    "tags": []
   },
   "outputs": [
    {
     "name": "stdout",
     "output_type": "stream",
     "text": [
      "        Date  Interval                           Queue Media Type  Offered  \\\n",
      "0    7/11/22  12:00 AM               V_D_PROD_FB_Queue    Message      0.0   \n",
      "1    7/11/22  12:30 AM               V_D_PROD_FB_Queue    Message      0.0   \n",
      "2    7/11/22   1:00 AM               V_D_PROD_FB_Queue    Message      0.0   \n",
      "3    7/11/22   1:30 AM               V_D_PROD_FB_Queue    Message      0.0   \n",
      "4    7/11/22   2:00 AM               V_D_PROD_FB_Queue    Message      0.0   \n",
      "..       ...       ...                             ...        ...      ...   \n",
      "235  7/11/22   9:30 PM  V_E_PROD_Voice_Logistics_Queue      Voice      0.0   \n",
      "236  7/11/22  10:00 PM  V_E_PROD_Voice_Logistics_Queue      Voice      0.0   \n",
      "237  7/11/22  10:30 PM  V_E_PROD_Voice_Logistics_Queue      Voice      0.0   \n",
      "238  7/11/22  11:00 PM  V_E_PROD_Voice_Logistics_Queue      Voice      0.0   \n",
      "239  7/11/22  11:30 PM  V_E_PROD_Voice_Logistics_Queue      Voice      0.0   \n",
      "\n",
      "     Answered  Abandoned  Abandon %  Service Level %  ASA Avg Talk Avg ACW  \\\n",
      "0         0.0        0.0        NaN              NaN  NaN      NaN     NaN   \n",
      "1         0.0        0.0        NaN              NaN  NaN      NaN     NaN   \n",
      "2         0.0        0.0        NaN              NaN  NaN      NaN     NaN   \n",
      "3         0.0        0.0        NaN              NaN  NaN      NaN     NaN   \n",
      "4         0.0        0.0        NaN              NaN  NaN      NaN     NaN   \n",
      "..        ...        ...        ...              ...  ...      ...     ...   \n",
      "235       0.0        0.0        NaN              NaN  NaN      NaN     NaN   \n",
      "236       0.0        0.0        NaN              NaN  NaN      NaN     NaN   \n",
      "237       0.0        0.0        NaN              NaN  NaN      NaN     NaN   \n",
      "238       0.0        0.0        NaN              NaN  NaN      NaN     NaN   \n",
      "239       0.0        0.0        NaN              NaN  NaN      NaN     NaN   \n",
      "\n",
      "     AHT Avg Hold  Transferred  Transfer %  \n",
      "0    NaN      NaN          0.0         NaN  \n",
      "1    NaN      NaN          0.0         NaN  \n",
      "2    NaN      NaN          0.0         NaN  \n",
      "3    NaN      NaN          0.0         NaN  \n",
      "4    NaN      NaN          0.0         NaN  \n",
      "..   ...      ...          ...         ...  \n",
      "235  NaN      NaN          0.0         NaN  \n",
      "236  NaN      NaN          0.0         NaN  \n",
      "237  NaN      NaN          0.0         NaN  \n",
      "238  NaN      NaN          0.0         NaN  \n",
      "239  NaN      NaN          0.0         NaN  \n",
      "\n",
      "[240 rows x 16 columns]\n"
     ]
    }
   ],
   "source": [
    "data = data_frame_from_xlsx(r, remove = True)\n",
    "print(data)"
   ]
  },
  {
   "cell_type": "markdown",
   "id": "0a210cca",
   "metadata": {},
   "source": [
    "# schedule a report"
   ]
  },
  {
   "cell_type": "code",
   "execution_count": null,
   "id": "b24cbe85",
   "metadata": {},
   "outputs": [],
   "source": []
  },
  {
   "cell_type": "code",
   "execution_count": null,
   "id": "557ba06d-8073-40c2-b221-89adf69101c1",
   "metadata": {},
   "outputs": [],
   "source": []
  },
  {
   "cell_type": "code",
   "execution_count": null,
   "id": "e4111ff4-bb10-4cfb-9216-03a0a14d67b1",
   "metadata": {},
   "outputs": [],
   "source": []
  },
  {
   "cell_type": "code",
   "execution_count": null,
   "id": "2fdb425d-2b18-4190-9c6d-fc1b0203d517",
   "metadata": {},
   "outputs": [],
   "source": []
  },
  {
   "cell_type": "code",
   "execution_count": null,
   "id": "c75d44aa-4bce-45cd-9594-d7b4279f638d",
   "metadata": {},
   "outputs": [],
   "source": []
  },
  {
   "cell_type": "markdown",
   "id": "7f0268ac",
   "metadata": {},
   "source": [
    "# Queue Metrics Interval Export"
   ]
  },
  {
   "cell_type": "markdown",
   "id": "0e22fc89",
   "metadata": {},
   "source": [
    "{\n",
    "   \"name\": \"\",\n",
    "   \"quartzCronExpression\": \"\",   (required)\n",
    "   \"nextFireTime\": \"\",\n",
    "   \"dateCreated\": \"\",\n",
    "   \"dateModified\": \"\",\n",
    "   \"description\": \"\",\n",
    "   \"timeZone\": \"\",\n",
    "   \"timePeriod\": \"\",\n",
    "   \"interval\": \"\",               (required)\n",
    "   \"reportFormat\": \"\",\n",
    "   \"locale\": \"\",\n",
    "   \"enabled\": true,\n",
    "   \"reportId\": \"\",               (required)\n",
    "   \"parameters\": {},\n",
    "   \"lastRun\": {\n",
    "      \"name\": \"\",\n",
    "      \"reportId\": \"\",\n",
    "      \"runTime\": \"\",\n",
    "      \"runStatus\": \"\",\n",
    "      \"errorMessage\": \"\",\n",
    "      \"runDurationMsec\": 0,\n",
    "      \"reportUrl\": \"\",\n",
    "      \"reportFormat\": \"\",\n",
    "      \"scheduleUri\": \"\"\n",
    "   }\n",
    "}"
   ]
  },
  {
   "cell_type": "code",
   "execution_count": 29,
   "id": "6462c43f",
   "metadata": {},
   "outputs": [
    {
     "name": "stdout",
     "output_type": "stream",
     "text": [
      "{\"name\": \"test report 3\", \"quartzCronExpression\": \"0 15 14 * * ?\", \"description\": \"Export test 3\", \"timeZone\": \"Europe/Warsaw\", \"timePeriod\": \"USE_INTERVAL\", \"interval\": \"2022-07-012T22:00:00.000Z/2022-07-012T22:00:00.000Z\", \"reportFormat\": \"XLS\", \"enabled\": true, \"reportId\": \"03bc1eef-082e-46c1-b9a8-fe45fbc3b205\"}\n"
     ]
    }
   ],
   "source": [
    "# quartzCronExpression (create firing schedules)\n",
    "# sec min hour day month day_of_week year\n",
    "# http://www.quartz-scheduler.org/documentation/quartz-2.3.0/tutorials/crontrigger.html\n",
    "# report ID:\n",
    "# Queue Metrics Summary Report: 03bc1eef-082e-46c1-b9a8-fe45fbc3b205\n",
    "\n",
    "\n",
    "data_to_schedule = {\n",
    "   \"name\": \"test report 3\",\n",
    "   \"quartzCronExpression\": \"0 15 14 * * ?\",\n",
    "   \"description\": \"Export test 3\",\n",
    "   \"timeZone\": \"Europe/Warsaw\",\n",
    "   \"timePeriod\": \"USE_INTERVAL\",\n",
    "   \"interval\": \"2022-07-012T22:00:00.000Z/2022-07-012T22:00:00.000Z\",\n",
    "   \"reportFormat\": \"XLS\",\n",
    "   \"enabled\": True,\n",
    "   \"reportId\": \"03bc1eef-082e-46c1-b9a8-fe45fbc3b205\"\n",
    "}\n",
    "print(json.dumps(data_to_schedule))"
   ]
  },
  {
   "cell_type": "code",
   "execution_count": null,
   "id": "13a77860",
   "metadata": {},
   "outputs": [],
   "source": [
    "requestHeaders = {\n",
    "    \"Authorization\": f\"{ response_json['token_type'] } { response_json['access_token']}\",\n",
    "    \"Content-Type\": \"application/json\"\n",
    "}\n",
    "\n"
   ]
  },
  {
   "cell_type": "code",
   "execution_count": null,
   "id": "6ae081d9",
   "metadata": {},
   "outputs": [],
   "source": [
    "# RAPORT ID 03bc1eef-082e-46c1-b9a8-fe45fbc3b205"
   ]
  }
 ],
 "metadata": {
  "kernelspec": {
   "display_name": "Python 3 (ipykernel)",
   "language": "python",
   "name": "python3"
  },
  "language_info": {
   "codemirror_mode": {
    "name": "ipython",
    "version": 3
   },
   "file_extension": ".py",
   "mimetype": "text/x-python",
   "name": "python",
   "nbconvert_exporter": "python",
   "pygments_lexer": "ipython3",
   "version": "3.8.12"
  }
 },
 "nbformat": 4,
 "nbformat_minor": 5
}
